{
 "cells": [
  {
   "cell_type": "code",
   "execution_count": 2,
   "metadata": {},
   "outputs": [],
   "source": [
    "\n",
    "# import all dependencies\n",
    "import urllib.request, json\n",
    "import pandas as pd\n",
    "from dotenv import load_dotenv\n",
    "import os\n",
    "from icecream import ic\n",
    "\n",
    "# Loading .env\n",
    "load_dotenv()\n",
    "API_KEY = os.getenv('NPS_API_KEY')\n"
   ]
  },
  {
   "cell_type": "code",
   "execution_count": 3,
   "metadata": {},
   "outputs": [],
   "source": [
    "# Making a request to the NPS API\n",
    "def make_request(limit, start):\n",
    "    base_url = \"https://developer.nps.gov/api/v1/parks\"\n",
    "    params = {\"api_key\": API_KEY, \"limit\": limit, \"start\": start}  # Adjust the limit based on your needs\n",
    "\n",
    "    parks = []\n",
    "    total = 0\n",
    "\n",
    "    req = urllib.request.Request(base_url + \"?\" + urllib.parse.urlencode(params))\n",
    "    response = urllib.request.urlopen(req).read()\n",
    "    data = json.loads(response.decode('utf-8'))\n",
    "    \n",
    "    parks.extend(data[\"data\"])\n",
    "    return(parks) #pd.DataFrame(parks)  # Corrected return statement"
   ]
  },
  {
   "cell_type": "code",
   "execution_count": 4,
   "metadata": {},
   "outputs": [],
   "source": [
    "# Grabbing the JSON to manipulate it before we add it to a dataFrame\n",
    "raw_data = make_request(471, 0)"
   ]
  },
  {
   "cell_type": "code",
   "execution_count": 5,
   "metadata": {},
   "outputs": [
    {
     "name": "stdout",
     "output_type": "stream",
     "text": [
      "id\n",
      "url\n",
      "fullName\n",
      "parkCode\n",
      "description\n",
      "latitude\n",
      "longitude\n",
      "latLong\n",
      "activities\n",
      "topics\n",
      "states\n",
      "contacts\n",
      "entranceFees\n",
      "entrancePasses\n",
      "fees\n",
      "directionsInfo\n",
      "directionsUrl\n",
      "operatingHours\n",
      "addresses\n",
      "images\n",
      "weatherInfo\n",
      "name\n",
      "designation\n",
      "multimedia\n",
      "relevanceScore\n"
     ]
    }
   ],
   "source": [
    "#Taking a look at all the columns\n",
    "for x in raw_data[0]:\n",
    "    print(x)"
   ]
  },
  {
   "cell_type": "code",
   "execution_count": 6,
   "metadata": {},
   "outputs": [],
   "source": [
    "#Cleaning entrance fees\n",
    "def clean_fees():\n",
    "    for park in raw_data:\n",
    "        if not park['entranceFees']:\n",
    "            park['entranceFees'] = False\n",
    "        else:\n",
    "            park['entranceFees'] = True"
   ]
  },
  {
   "cell_type": "code",
   "execution_count": 7,
   "metadata": {},
   "outputs": [
    {
     "data": {
      "text/plain": [
       "False"
      ]
     },
     "execution_count": 7,
     "metadata": {},
     "output_type": "execute_result"
    }
   ],
   "source": [
    "# Checking the data\n",
    "clean_fees()\n",
    "raw_data[0]['entranceFees']"
   ]
  },
  {
   "cell_type": "code",
   "execution_count": 8,
   "metadata": {},
   "outputs": [],
   "source": [
    "# Cleaning up operating hours\n",
    "def clean_hours(): \n",
    "    days = ['sunday','monday','tuesday','wednesday','thursday','friday','saturday']\n",
    "    for parks in raw_data:\n",
    "        try:\n",
    "            hours = parks['operatingHours'][0]['standardHours']\n",
    "            sorted_hours = {x: hours[x] for x in days}\n",
    "            parks['operatingHours'] = sorted_hours\n",
    "        except (KeyError, IndexError):\n",
    "            pass"
   ]
  },
  {
   "cell_type": "code",
   "execution_count": 9,
   "metadata": {},
   "outputs": [
    {
     "data": {
      "text/plain": [
       "{'sunday': 'All Day',\n",
       " 'monday': 'All Day',\n",
       " 'tuesday': 'All Day',\n",
       " 'wednesday': 'All Day',\n",
       " 'thursday': 'All Day',\n",
       " 'friday': 'All Day',\n",
       " 'saturday': 'All Day'}"
      ]
     },
     "execution_count": 9,
     "metadata": {},
     "output_type": "execute_result"
    }
   ],
   "source": [
    "# Checking the data\n",
    "clean_hours()\n",
    "raw_data[200]['operatingHours']\n"
   ]
  },
  {
   "cell_type": "code",
   "execution_count": 10,
   "metadata": {},
   "outputs": [],
   "source": [
    "def clean_latLong():\n",
    "    for parks in raw_data:\n",
    "        try:\n",
    "            parks['latLong'] = parks['latitude'] + \",\" + parks['longitude']\n",
    "            del(parks['latitude'], parks['longitude'])\n",
    "        except KeyError:\n",
    "            pass"
   ]
  },
  {
   "cell_type": "code",
   "execution_count": 11,
   "metadata": {},
   "outputs": [
    {
     "data": {
      "text/plain": [
       "'37.5858662,-85.67330523'"
      ]
     },
     "execution_count": 11,
     "metadata": {},
     "output_type": "execute_result"
    }
   ],
   "source": [
    "# Testing out the latlong function\n",
    "clean_latLong()\n",
    "raw_data[0]['latLong']"
   ]
  },
  {
   "cell_type": "code",
   "execution_count": 12,
   "metadata": {},
   "outputs": [],
   "source": [
    "# Clean phone number\n",
    "def clean_phone():\n",
    "    for parks in raw_data:\n",
    "        try:  \n",
    "            parks['phoneNumber'] = parks['contacts']['phoneNumbers'][0]['phoneNumber']\n",
    "        except:\n",
    "            parks['phoneNumber'] = parks['contacts']['phoneNumbers']\n",
    "        try:\n",
    "            parks.pop('contacts')\n",
    "        except:\n",
    "            pass"
   ]
  },
  {
   "cell_type": "code",
   "execution_count": 13,
   "metadata": {},
   "outputs": [],
   "source": [
    "# Lets test it\n",
    "clean_phone()"
   ]
  },
  {
   "cell_type": "code",
   "execution_count": 14,
   "metadata": {},
   "outputs": [],
   "source": [
    "# Clean up activities\n",
    "def clean_activities():\n",
    "    for parks in raw_data:\n",
    "        activities = []\n",
    "        try:\n",
    "            for activity in parks['activities']:\n",
    "                activities.append(activity['name'])\n",
    "            parks['activities'] = activities\n",
    "        except:\n",
    "            pass"
   ]
  },
  {
   "cell_type": "code",
   "execution_count": 15,
   "metadata": {},
   "outputs": [],
   "source": [
    "# Clean up topics\n",
    "def clean_topics():\n",
    "    for parks in raw_data:\n",
    "        topics = []\n",
    "        try:\n",
    "            for topic in parks['topics']:\n",
    "                topics.append(topic['name'])\n",
    "            parks['topics'] = topics\n",
    "        except:\n",
    "            pass"
   ]
  },
  {
   "cell_type": "code",
   "execution_count": 16,
   "metadata": {},
   "outputs": [],
   "source": [
    "# Clean up addresses\n",
    "def clean_addresses():\n",
    "    for parks in raw_data:\n",
    "        parks['address'] = parks['addresses'][0]['line1'] + \", \" + parks['addresses'][0]['city'] + \", \" + parks['addresses'][0]['stateCode'] + \" \" + parks['addresses'][0]['postalCode']\n",
    "        try:\n",
    "            parks.pop('addresses')\n",
    "        except:\n",
    "            pass"
   ]
  },
  {
   "cell_type": "code",
   "execution_count": 17,
   "metadata": {},
   "outputs": [],
   "source": [
    "clean_addresses()"
   ]
  },
  {
   "cell_type": "code",
   "execution_count": 18,
   "metadata": {},
   "outputs": [
    {
     "name": "stdout",
     "output_type": "stream",
     "text": [
      "['Birthplace', 'Presidents', 'Animals', 'Birds', 'Caves, Caverns and Karst', 'Geology', 'Groundwater', 'Freshwater Springs', 'Night Sky']\n"
     ]
    }
   ],
   "source": [
    "clean_topics()\n",
    "print(raw_data[0]['topics'])"
   ]
  },
  {
   "cell_type": "code",
   "execution_count": 19,
   "metadata": {},
   "outputs": [
    {
     "name": "stdout",
     "output_type": "stream",
     "text": [
      "['Astronomy', 'Stargazing', 'Food', 'Picnicking', 'Guided Tours', 'Self-Guided Tours - Walking', 'Hands-On', 'Junior Ranger Program', 'Wildlife Watching', 'Birdwatching', 'Park Film', 'Museum Exhibits', 'Shopping', 'Bookstore and Park Store', 'Gift Shop and Souvenirs']\n"
     ]
    }
   ],
   "source": [
    "clean_activities()\n",
    "print(raw_data[0]['activities'])"
   ]
  },
  {
   "cell_type": "code",
   "execution_count": 20,
   "metadata": {},
   "outputs": [
    {
     "name": "stdout",
     "output_type": "stream",
     "text": [
      "id\n",
      "url\n",
      "fullName\n",
      "parkCode\n",
      "description\n",
      "latLong\n",
      "activities\n",
      "topics\n",
      "states\n",
      "entranceFees\n",
      "entrancePasses\n",
      "fees\n",
      "directionsInfo\n",
      "directionsUrl\n",
      "operatingHours\n",
      "images\n",
      "weatherInfo\n",
      "name\n",
      "designation\n",
      "multimedia\n",
      "relevanceScore\n",
      "phoneNumber\n",
      "address\n"
     ]
    }
   ],
   "source": [
    "for x in raw_data[0].keys():\n",
    "    print(x)"
   ]
  },
  {
   "cell_type": "code",
   "execution_count": 34,
   "metadata": {},
   "outputs": [
    {
     "name": "stdout",
     "output_type": "stream",
     "text": [
      "E84B1E08-CCE8-4FFF-8DB6-B92F40953225\n",
      "https://www.nps.gov/arho/index.htm\n",
      "Arlington House, The Robert E. Lee Memorial\n",
      "arho\n",
      "Arlington House is the nation’s memorial to Robert E. Lee. It honors him for specific reasons, including his role in promoting peace and reunion after the Civil War. In a larger sense it exists as a place of study and contemplation of the meaning of some of the most difficult aspects of American history: military service; sacrifice; citizenship; duty; loyalty; slavery and freedom.\n",
      "38.8822021484,-77.0734786987\n",
      "['Guided Tours', 'Self-Guided Tours - Walking', 'Museum Exhibits']\n",
      "['African American Heritage', 'American Revolution', 'Burial, Cemetery and Gravesite', 'National Cemetery', 'Enslavement', 'Military', 'Monuments and Memorials', 'Reconstruction', 'Social Movements', 'Civil Rights', 'Wars and Conflicts', 'War of 1812', 'Civil War', \"Women's History\"]\n",
      "VA\n",
      "False\n",
      "[]\n",
      "[]\n",
      "Public Transportation: The Memorial is accessible by the Blue Line of the Metro subway system. The Arlington Cemetery subway station is near the Visitor Center for the cemetery. Car: Arlington House is located inside Arlington National Cemetery. If you plan to come in a vehicle, the nearest parking is in the Arlington National Cemetery parking garage. From the entrance and Welcome Center at Arlington National Cemetery, one can walk up the hill to Arlington House (approximately 15 minutes-steep)\n",
      "https://www.nps.gov/arho/planyourvisit/directions.htm\n",
      "{'sunday': '9:30AM - 4:30PM', 'monday': '9:30AM - 4:30PM', 'tuesday': '9:30AM - 4:30PM', 'wednesday': '9:30AM - 4:30PM', 'thursday': '9:30AM - 4:30PM', 'friday': '9:30AM - 4:30PM', 'saturday': '9:30AM - 4:30PM'}\n",
      "[{'credit': 'NPS', 'title': 'Arlington House, The Robert E. Lee Memorial', 'altText': 'Columns of Arlington House', 'caption': 'Arlington House, The Robert E. Lee Memorial', 'url': 'https://www.nps.gov/common/uploads/structured_data/C6780B46-B0C0-FB79-E17378C527E54DA7.jpeg'}, {'credit': 'NPS / Marcey Frutchey', 'title': 'Arlington House - Aerial photo', 'altText': 'Aerial view of Arlington House surrounded by fall foliage.', 'caption': 'This image was captured from a manned helicopter flight.', 'url': 'https://www.nps.gov/common/uploads/structured_data/1E8E848E-FB49-785E-92A1CF5486BE6539.jpg'}, {'credit': 'NPS / Liz Macro', 'title': 'Arlington House - Interior', 'altText': 'Plates and a kettle on a table.', 'caption': 'Explore inside Arlington House and its buildings.', 'url': 'https://www.nps.gov/common/uploads/structured_data/1ED797FB-AC9B-5464-F5D8B715F795F420.jpg'}, {'credit': 'NPS / Liz Macro', 'title': 'Arlington House Interior', 'altText': 'Portraits hang on the walls of the parlor room with red velvet furniture and a small dining table.', 'caption': 'The parlor room in Arlington House', 'url': 'https://www.nps.gov/common/uploads/structured_data/1F050F7E-AB95-6C93-052E28C7508E9D09.jpg'}, {'credit': 'NPS / Marcey Frutchey', 'title': 'View from Arlington House', 'altText': 'A park ranger talks to people overlooking Washington, DC', 'caption': 'Get great views of Washington, DC, from Arlington House!', 'url': 'https://www.nps.gov/common/uploads/structured_data/1F3EE25F-AB7C-AA8D-3CD1B7773A1D83C5.jpg'}]\n",
      "Summers at Arlington House are generally hot and humid, with daytime highs frequently above 90 degrees Fahrenheit and scattered afternoon thunderstorms. Please carry water while participating in physical activity and be prepared to take shelter from lightning. Winters at Arlington are generally cold, with nighttime lows frequently near freezing and occasional snowfall. Please be alert for snowplows and icy spots on roadways. Weather during spring and fall is generally moderate, but can change quickly.\n",
      "Arlington House, The Robert E. Lee Memorial\n",
      "\n",
      "[]\n",
      "1.0\n",
      "7032351530\n",
      "Arlington House, The Robert E. Lee Memorial, Arlington, VA 22211\n"
     ]
    }
   ],
   "source": [
    "for x in raw_data[26].values():\n",
    "    print(x)"
   ]
  },
  {
   "cell_type": "code",
   "execution_count": 22,
   "metadata": {},
   "outputs": [
    {
     "data": {
      "text/plain": [
       "array(['KY', 'ME', 'MA', 'DC', 'NY', 'NE', 'HI', 'AK', 'CA', 'TX', 'PA',\n",
       "       'CO', 'MP', 'GA', 'TN', 'MD', 'WI',\n",
       "       'CT,GA,MA,MD,ME,NC,NH,NJ,NY,PA,TN,VA,VT,WV', 'VA', 'UT', 'AR',\n",
       "       'MD,VA', 'NM', 'SD', 'FL', 'MT', 'KY,TN', 'MT,WY', 'AL', 'RI,MA',\n",
       "       'NC,VA', 'WV', 'MS', 'KS', 'VI', 'MO,AR,OK,TX,NM,AZ,CA',\n",
       "       'CA,CO,ID,KS,MO,NE,NV,OR,UT,WY', 'LA', 'AZ', 'NC',\n",
       "       'VA,MD,DE,DC,PA,NY', 'SC', 'OH', 'DC,MD,WV',\n",
       "       'DC,DE,MD,NY,PA,VA,WV', 'GA,TN', 'OK', 'ID', 'DC,MD,VA', 'CT',\n",
       "       'OR', 'KY,TN,VA', 'CA,NV', 'NJ,PA', 'WY', 'CO,UT', 'WA', 'IA',\n",
       "       'NM,TX', 'TX,LA', 'NJ,NY', 'IL,MS', 'DE,PA', 'AR,OK', 'MT,ND',\n",
       "       'OR,WA', 'MO', 'NY,NJ', 'IN', 'AZ,UT', 'MN', 'NV', 'NJ', 'NC,TN',\n",
       "       'FL,MS', 'WV,VA,MD', 'WA,OR,ID,MT', 'MI', 'AZ,CA', 'ND', 'AZ,NV',\n",
       "       'IA,ID,IL,IN,KS,KY,MO,MT,NE,ND,OH,OR,PA,SD,WA,WV', 'IL', 'PA,NJ',\n",
       "       'NM,WA,TN', 'VT', 'ID,WA', 'SD,NE', 'IL,IA,NE,UT,WY', 'AL,MS,TN',\n",
       "       'AS', 'MA,CT', 'ID,MT,OR,WA', 'MI,MN,ND,NY,OH,PA,VT,WI',\n",
       "       'AZ,CA,CO,NV,NM,UT', 'ID,KS,MO,NE,OR,WA,WY', 'NC,SC,TN,VA',\n",
       "       'CA,CO,KS,MO,NE,NV,UT,WY', 'DC,MD,PA,VA', 'RI', 'WI,MN', 'NH',\n",
       "       'PR', 'CO,KS,MO,NM,OK', 'TN,MS', 'MD,VA,DC',\n",
       "       'AL,AR,GA,IL,KY,MO,NC,OK,TN', 'NY,PA', 'MS,LA', 'GU',\n",
       "       'MA,RI,CT,NY,NJ,PA,DE,MD,VA,DC', 'ID,MT,WY'], dtype=object)"
      ]
     },
     "execution_count": 22,
     "metadata": {},
     "output_type": "execute_result"
    }
   ],
   "source": [
    "import pandas as pd\n",
    "\n",
    "df = pd.DataFrame(raw_data)\n",
    "df['states'].unique()"
   ]
  },
  {
   "cell_type": "code",
   "execution_count": 23,
   "metadata": {},
   "outputs": [],
   "source": [
    "filename = \"park_info.json\"\n",
    "with open(filename, 'w') as f:\n",
    "    json.dump(raw_data, f)"
   ]
  }
 ],
 "metadata": {
  "kernelspec": {
   "display_name": "Python 3",
   "language": "python",
   "name": "python3"
  },
  "language_info": {
   "codemirror_mode": {
    "name": "ipython",
    "version": 3
   },
   "file_extension": ".py",
   "mimetype": "text/x-python",
   "name": "python",
   "nbconvert_exporter": "python",
   "pygments_lexer": "ipython3",
   "version": "3.8.10"
  }
 },
 "nbformat": 4,
 "nbformat_minor": 2
}
